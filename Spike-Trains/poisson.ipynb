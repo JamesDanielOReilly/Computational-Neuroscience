{
 "cells": [
  {
   "cell_type": "markdown",
   "metadata": {},
   "source": [
    "Importing libraries."
   ]
  },
  {
   "cell_type": "code",
   "execution_count": 1,
   "metadata": {
    "collapsed": true
   },
   "outputs": [],
   "source": [
    "import numpy as np\n",
    "import random as rnd\n",
    "import matplotlib.pyplot as plt"
   ]
  },
  {
   "cell_type": "markdown",
   "metadata": {},
   "source": [
    "Setting up the variables"
   ]
  },
  {
   "cell_type": "code",
   "execution_count": 2,
   "metadata": {
    "collapsed": true
   },
   "outputs": [],
   "source": [
    "hz = 1.0\n",
    "sec = 1.0\n",
    "ms = 0.001\n",
    "rate = 35.0 * hz #firing rate is currently 35 spikes every second\n",
    "#tau_ref = 5 * ms #refractory period is currently 0.005 seconds after each spike\n",
    "tau_ref = 0\n",
    "big_t = 1000 * sec #the total amount of time is currently 1000 seconds\n",
    "window_1 = 10 * ms\n",
    "window_2 = 50 * ms\n",
    "window_3 = 100 * ms"
   ]
  },
  {
   "cell_type": "markdown",
   "metadata": {},
   "source": [
    "Generating a spike train using a poisson process"
   ]
  },
  {
   "cell_type": "code",
   "execution_count": 3,
   "metadata": {
    "collapsed": true,
    "scrolled": true
   },
   "outputs": [],
   "source": [
    "def get_spike_train(rate, big_t, tau_ref):\n",
    "    \n",
    "    if 1 <= rate*tau_ref: #checking if the rate and refactory period are compatible (currently 0.0175 seconds)\n",
    "        print(\"Firing rate not possible given refactory period f/p\")\n",
    "        return []\n",
    "    \n",
    "    exp_rate = rate/(1-tau_ref * rate)            #exp_rate = 35/(1-0.0175) = 35/0.825 = 42.424242...\n",
    "    \n",
    "    spike_train = []                              #Initialise empty spike array\n",
    "    \n",
    "    t = rnd.expovariate(exp_rate)                 #sampling first spike\n",
    "    \n",
    "    while t < big_t:\n",
    "        spike_train.append(t)\n",
    "        t += tau_ref + rnd.expovariate(exp_rate)\n",
    "    \n",
    "    return spike_train                            # return the list of spike timings\n",
    "\n",
    "spike_train = get_spike_train(rate, big_t, tau_ref)"
   ]
  },
  {
   "cell_type": "markdown",
   "metadata": {},
   "source": [
    "Below I calculate the Fano factor for the spike count. The Fano Factor is defined as $$F = variance / mean$$ .\n",
    "To calculate it, you divide the spike train into intervals and work out he spike count for each interval"
   ]
  },
  {
   "cell_type": "code",
   "execution_count": 4,
   "metadata": {
    "collapsed": true
   },
   "outputs": [],
   "source": [
    "window_1 = 10 * ms \n",
    "window_2 = 50 * ms\n",
    "window_3 = 100 * ms\n",
    "\n",
    "def fano_factor(spike_train, window_size):\n",
    "    \n",
    "    num_windows = round(1000/window_size)\n",
    "    \n",
    "    histogram = np.histogram(spike_train, num_windows, (0, 1000))\n",
    "    print(\"Number of spikes in each window: {}\".format(histogram[0]))\n",
    "    \n",
    "    mean = np.mean(histogram[0])\n",
    "    print(\"Mean number of spikes in each window: {}\".format(mean))\n",
    "    \n",
    "    variance = np.var(histogram[0])\n",
    "    print(\"Variance of the number of spikes in each window: {}\".format(variance))\n",
    "    \n",
    "    fano_factor = variance/mean\n",
    "    print(\"Fano Factor: {}\".format(fano_factor))"
   ]
  },
  {
   "cell_type": "code",
   "execution_count": 5,
   "metadata": {
    "scrolled": false
   },
   "outputs": [
    {
     "name": "stdout",
     "output_type": "stream",
     "text": [
      "Number of spikes in each window: [1 0 0 ..., 0 0 0]\n",
      "Mean number of spikes in each window: 0.35077\n",
      "Variance of the number of spikes in each window: 0.3513104071\n",
      "Fano Factor: 1.0015406308977393\n"
     ]
    }
   ],
   "source": [
    "fano_factor(spike_train, window_1)"
   ]
  },
  {
   "cell_type": "code",
   "execution_count": 6,
   "metadata": {},
   "outputs": [
    {
     "name": "stdout",
     "output_type": "stream",
     "text": [
      "Number of spikes in each window: [3 2 1 ..., 1 1 1]\n",
      "Mean number of spikes in each window: 1.75385\n",
      "Variance of the number of spikes in each window: 1.7559601774999996\n",
      "Fano Factor: 1.0012031687430507\n"
     ]
    }
   ],
   "source": [
    "fano_factor(spike_train, window_2)"
   ]
  },
  {
   "cell_type": "code",
   "execution_count": 7,
   "metadata": {},
   "outputs": [
    {
     "name": "stdout",
     "output_type": "stream",
     "text": [
      "Number of spikes in each window: [5 2 3 ..., 2 2 2]\n",
      "Mean number of spikes in each window: 3.5077\n",
      "Variance of the number of spikes in each window: 3.52734071\n",
      "Fano Factor: 1.0055993129401033\n"
     ]
    }
   ],
   "source": [
    "fano_factor(spike_train, window_3)"
   ]
  },
  {
   "cell_type": "code",
   "execution_count": 8,
   "metadata": {
    "collapsed": true
   },
   "outputs": [],
   "source": [
    "def co_of_variation(spike_train):\n",
    "    \n",
    "    #Calculate time difference between successive spikes\n",
    "    interspike_intervals = np.diff(spike_train)\n",
    "    print(\"Interspike intervals: {}\".format(interspike_intervals))\n",
    "    \n",
    "    mean = np.mean(interspike_intervals)\n",
    "    print(\"Mean of interspike intervals: {}\".format(mean))\n",
    "    \n",
    "    sd = np.std(interspike_intervals)\n",
    "    print(\"Standard deviation of interspike intervals: {}\".format(sd))\n",
    "    \n",
    "    coefficient_of_variation = sd/mean\n",
    "    print(\"Coefficient of variation for interspike intervals: {}\".format(coefficient_of_variation))"
   ]
  },
  {
   "cell_type": "code",
   "execution_count": 9,
   "metadata": {},
   "outputs": [
    {
     "name": "stdout",
     "output_type": "stream",
     "text": [
      "Interspike intervals: [ 0.03257102  0.01296787  0.00180891 ...,  0.01891687  0.07665151\n",
      "  0.00620028]\n",
      "Mean of interspike intervals: 0.028508058889113903\n",
      "Standard deviation of interspike intervals: 0.02855433137703943\n",
      "Coefficient of variation for interspike intervals: 1.0016231370962685\n"
     ]
    }
   ],
   "source": [
    "co_of_variation(spike_train)"
   ]
  },
  {
   "cell_type": "code",
   "execution_count": 10,
   "metadata": {},
   "outputs": [
    {
     "name": "stdout",
     "output_type": "stream",
     "text": [
      "600000\n",
      "[0, 0, 0, 0, 0]\n",
      "600000\n",
      "[-111.9482421875, -81.806640625, 10.2197265625, 83.3642578125, 69.375]\n"
     ]
    }
   ],
   "source": [
    "def load_data(filename,T):\n",
    "\n",
    "    data_array = [T(line.strip()) for line in open(filename, 'r')]\n",
    "\n",
    "    return data_array\n",
    "\n",
    "\n",
    "#spikes=[int(x) for x in load_data(\"rho.dat\")]\n",
    "spikes=load_data(\"rho.dat\",int)\n",
    "\n",
    "print(len(spikes))\n",
    "print(spikes[0:5])\n",
    "\n",
    "#stimulus=[float(x) for x in load_data(\"stim.dat\")]\n",
    "stimulus=load_data(\"stim.dat\",float)\n",
    "\n",
    "print(len(stimulus))\n",
    "print(stimulus[0:5])"
   ]
  },
  {
   "cell_type": "code",
   "execution_count": 11,
   "metadata": {
    "collapsed": true
   },
   "outputs": [],
   "source": [
    "# Sampled every two milliseconds for twenty minutes. The data is a vector of 1's and 0's corresponding to\n",
    "# the neuron firing or not firing. Want to calculate the Fano factor and the coefficient of variation for this\n",
    "# spike train. \n",
    "# First calculate the number of milliseconds. 60 x 1000 = 60,000. 60,000 x 20 = 1200000 ms\n",
    "# There will be 5 samples every 10ms, 25 samples every 50ms, and 50 samples every 100ms\n",
    "\n",
    "# We want to therefore split the results into bins of size 10, 25, and 50\n",
    "split_1 = 120000\n",
    "split_2 = 24000\n",
    "split_3 = 12000\n",
    "\n",
    "def fano_factor_2(spike_train, split_size):\n",
    "    \n",
    "    binned_spikes = np.split(spike_train, split_size)\n",
    "    print(\"Binned spikes: {}\".format(binned_spikes))\n",
    "    #print(len(binned_spikes[0]))\n",
    "    \n",
    "    sum_list = []\n",
    "    \n",
    "    for array in binned_spikes:\n",
    "        sum_list.append(np.sum(array))\n",
    "    \n",
    "    mean = np.mean(sum_list)\n",
    "    print(\"Mean spike count per {}ms interval: {}\".format(600000/split_size, mean))"
   ]
  },
  {
   "cell_type": "code",
   "execution_count": 12,
   "metadata": {
    "collapsed": true
   },
   "outputs": [],
   "source": [
    "def convert_timings(spike_train):\n",
    "    converted = []\n",
    "    for n, i in enumerate(spike_train):\n",
    "        if i == 1:\n",
    "            converted.append(n * 0.002)\n",
    "    return converted"
   ]
  },
  {
   "cell_type": "code",
   "execution_count": 13,
   "metadata": {},
   "outputs": [
    {
     "name": "stdout",
     "output_type": "stream",
     "text": [
      "Number of spikes in each window: [0 0 0 ..., 1 0 0]\n",
      "Mean number of spikes in each window: 0.44595\n",
      "Variance of the number of spikes in each window: 0.4895185975\n",
      "Fano Factor: 1.0976983910752325\n"
     ]
    }
   ],
   "source": [
    "fano_factor(convert_timings(spikes), window_1)"
   ]
  },
  {
   "cell_type": "code",
   "execution_count": 14,
   "metadata": {},
   "outputs": [
    {
     "name": "stdout",
     "output_type": "stream",
     "text": [
      "Number of spikes in each window: [2 6 5 ..., 0 0 2]\n",
      "Mean number of spikes in each window: 2.22975\n",
      "Variance of the number of spikes in each window: 6.397064937500001\n",
      "Fano Factor: 2.8689606177822626\n"
     ]
    }
   ],
   "source": [
    "fano_factor(convert_timings(spikes), window_2)"
   ]
  },
  {
   "cell_type": "code",
   "execution_count": 15,
   "metadata": {},
   "outputs": [
    {
     "name": "stdout",
     "output_type": "stream",
     "text": [
      "Number of spikes in each window: [8 6 4 ..., 4 0 2]\n",
      "Mean number of spikes in each window: 4.4595\n",
      "Variance of the number of spikes in each window: 17.81575975\n",
      "Fano Factor: 3.995012837762081\n"
     ]
    }
   ],
   "source": [
    "fano_factor(convert_timings(spikes), window_3)"
   ]
  },
  {
   "cell_type": "code",
   "execution_count": 16,
   "metadata": {},
   "outputs": [
    {
     "name": "stdout",
     "output_type": "stream",
     "text": [
      "Interspike intervals: [ 0.01   0.006  0.012 ...,  0.226  0.01   0.012]\n",
      "Mean of interspike intervals: 0.022385447761194027\n",
      "Standard deviation of interspike intervals: 0.04496234341697251\n",
      "Coefficient of variation for interspike intervals: 2.0085523370640965\n"
     ]
    }
   ],
   "source": [
    "co_of_variation(convert_timings(spikes))"
   ]
  },
  {
   "cell_type": "markdown",
   "metadata": {},
   "source": [
    "# Question 3\n",
    "Plot the spike-triggered average over a 100ms window. Responses to the stimulus are recorded every 2ms and so each window should include 50 stimulus recordings."
   ]
  },
  {
   "cell_type": "code",
   "execution_count": 17,
   "metadata": {
    "collapsed": true
   },
   "outputs": [],
   "source": [
    "def spike_triggered_average(stimulus, spikes, interval):\n",
    "    timings = convert_timings(spikes)\n",
    "    averages = []\n",
    "    for q in np.arange(0, interval, 2):\n",
    "        average = 0\n",
    "        N = 0\n",
    "        for t in timings:\n",
    "            index = int((t - q*ms)/(2*ms))\n",
    "            if index >= 0:\n",
    "                average = average + stimulus[index]\n",
    "                N = N + 1\n",
    "        \n",
    "        averages.append(average/N)\n",
    "    \n",
    "    fig, ax = plt.subplots()\n",
    "    ax.plot(np.arange(0, interval, 2), averages,'teal')\n",
    "    plt.axhline(linewidth=1, color='black')\n",
    "    plt.axvline(linewidth=1, color='black')\n",
    "\n",
    "    ax.grid(True, linestyle='-.')\n",
    "    ax.tick_params(labelcolor='black', labelsize='small', width=1)\n",
    "    ax.set_xlim([-10,100])\n",
    "    ax.set_ylim([-2,35])\n",
    "\n",
    "    plt.xlabel(\"Time before spike (milliseconds)\", fontsize = 14)\n",
    "    plt.ylabel(\"Average Stimulus\", fontsize = 14)\n",
    "\n",
    "    plt.savefig(\"Spike_Triggered_Average.png\")\n",
    "    plt.show()"
   ]
  },
  {
   "cell_type": "code",
   "execution_count": 18,
   "metadata": {},
   "outputs": [
    {
     "data": {
      "image/png": "[encoded data removed]",
      "text/plain": [
       "<matplotlib.figure.Figure at 0x7fb1d55cbb00>"
      ]
     },
     "metadata": {},
     "output_type": "display_data"
    }
   ],
   "source": [
    "spike_triggered_average(stimulus, spikes, 100)"
   ]
  },
  {
   "cell_type": "code",
   "execution_count": null,
   "metadata": {
    "collapsed": true
   },
   "outputs": [],
   "source": []
  }
 ],
 "metadata": {
  "kernelspec": {
   "display_name": "Python 3",
   "language": "python",
   "name": "python3"
  },
  "language_info": {
   "codemirror_mode": {
    "name": "ipython",
    "version": 3
   },
   "file_extension": ".py",
   "mimetype": "text/x-python",
   "name": "python",
   "nbconvert_exporter": "python",
   "pygments_lexer": "ipython3",
   "version": "3.6.3"
  }
 },
 "nbformat": 4,
 "nbformat_minor": 2
}
