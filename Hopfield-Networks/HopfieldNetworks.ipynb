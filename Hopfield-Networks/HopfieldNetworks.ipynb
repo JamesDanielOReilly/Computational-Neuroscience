{
 "cells": [
  {
   "cell_type": "markdown",
   "metadata": {},
   "source": [
    "This coursework relates to the Hopfield network. We were provided with a programme that contains a function for converting an 11-component vector of 1s and -1s into an old-fashioned seven-segment digit and a number: The first seven digits correspond to the seven-segment display. The remaining four code for the number in a sort of binary where the zeros have been replaced with -1. It also contains three patterns: one, three and six."
   ]
  },
  {
   "cell_type": "markdown",
   "metadata": {},
   "source": [
    "The goal of this coursework is to the programme provided to include a hopfield network to store these three patterns using the formula for w_ij when i != j"
   ]
  },
  {
   "cell_type": "markdown",
   "metadata": {},
   "source": [
    "In the code there are also two test patterns, the programme should update these synchonously until convergence and print out the patterns at each iteration."
   ]
  },
  {
   "cell_type": "markdown",
   "metadata": {},
   "source": [
    "In summary:\n",
    "- Create a weight matrix of w_ij.\n",
    "- Fix the weight values to store the three patterns\n",
    "- Write a function to evolve the network according to the McCulloch Pitts formula: this should be done synchronously so all the nodes are updated at each timestep.\n",
    "- For each of the two test patterns, evolve the patterns until they stop changing, printing the patterna at each step."
   ]
  },
  {
   "cell_type": "code",
   "execution_count": 1,
   "metadata": {},
   "outputs": [],
   "source": [
    "from math import *\n",
    "import numpy as np\n",
    "from matplotlib import pyplot as plt\n",
    "import random\n",
    "import itertools\n",
    "from submission import *"
   ]
  },
  {
   "cell_type": "code",
   "execution_count": 2,
   "metadata": {},
   "outputs": [
    {
     "name": "stdout",
     "output_type": "stream",
     "text": [
      " _ \n",
      " _|\n",
      " _|\n",
      "3\n",
      " _ \n",
      "|_ \n",
      "|_|\n",
      "6\n",
      "   \n",
      "  |\n",
      "  |\n",
      "1\n"
     ]
    }
   ],
   "source": [
    "def seven_segment(pattern):\n",
    "    \n",
    "    def to_bool(a):\n",
    "        if a==1:\n",
    "            return True\n",
    "        return False\n",
    "    \n",
    "    def hor(d):\n",
    "        if d:\n",
    "            print(\" _ \")\n",
    "        else:\n",
    "            print(\"   \")\n",
    "            \n",
    "    def vert(d1, d2, d3):\n",
    "        word = \"\"\n",
    "        \n",
    "        if d1:\n",
    "            word = \"|\"\n",
    "        else:\n",
    "            word = \" \"\n",
    "        \n",
    "        if d3:\n",
    "            word += \"_\"\n",
    "        else:\n",
    "            word += \" \"\n",
    "        \n",
    "        if d2:\n",
    "            word += \"|\"\n",
    "        else:\n",
    "            word += \" \"\n",
    "        \n",
    "        \n",
    "        print(word)\n",
    "        \n",
    "    pattern_b = list(map(to_bool,pattern))\n",
    "    \n",
    "    hor(pattern_b[0])\n",
    "    vert(pattern_b[1], pattern_b[2], pattern_b[3])\n",
    "    vert(pattern_b[4], pattern_b[5], pattern_b[6])\n",
    "    \n",
    "    number = 0\n",
    "    \n",
    "    for i in range(0,4):\n",
    "        if pattern_b[7+i]:\n",
    "            number += pow(2,i)\n",
    "    print(int(number))\n",
    "    \n",
    "submission=Submission(\"james_oreilly\")\n",
    "submission.header(\"James O'Reilly\")\n",
    "\n",
    "    \n",
    "six = [1, 1, -1, 1, 1, 1, 1, -1, 1, 1, -1]\n",
    "three = [1, -1, 1, 1, -1, 1, 1, 1, 1, -1, -1]\n",
    "one = [-1, -1, 1, -1, -1, 1, -1, 1, -1, -1, -1]  #these are lists, NOT ARRAYS\n",
    "\n",
    "seven_segment(three)\n",
    "seven_segment(six)\n",
    "seven_segment(one)"
   ]
  },
  {
   "cell_type": "code",
   "execution_count": 3,
   "metadata": {
    "collapsed": true
   },
   "outputs": [],
   "source": [
    "#input for each neuron is the weighted sum of all the other inputs. To do this we first need a weight matrix.\n",
    "#This will be a zero-diagonal symmetric matrix\n",
    "\n",
    "def weightMatrix(a, b, c):\n",
    "    shape = (11, 11)\n",
    "    W = np.zeros(shape)\n",
    "    for i in range(11):\n",
    "        for j in range(11):\n",
    "            if i != j:\n",
    "                W[i, j] = 1/3 * (a[i]*a[j] + b[i]*b[j] + c[i]*c[j])\n",
    "    return W"
   ]
  },
  {
   "cell_type": "code",
   "execution_count": 4,
   "metadata": {
    "collapsed": true
   },
   "outputs": [],
   "source": [
    "weight_matrix = weightMatrix(one, three, six)\n",
    "\n",
    "submission.section(\"Weight matrix\")\n",
    "submission.matrix_print(\"W\",weight_matrix)#"
   ]
  },
  {
   "cell_type": "code",
   "execution_count": 5,
   "metadata": {
    "collapsed": true
   },
   "outputs": [],
   "source": [
    "#defining a step function for the individual neurons\n",
    "def stepFunction(value):\n",
    "    if value < 0:\n",
    "        return -1\n",
    "    elif value >= 0:\n",
    "        return 1"
   ]
  },
  {
   "cell_type": "code",
   "execution_count": 6,
   "metadata": {
    "collapsed": true
   },
   "outputs": [],
   "source": [
    "threshold = 0\n",
    "\n",
    "#given a state, update the state using the weight matrix\n",
    "def stateUpdate(vector, weights):\n",
    "    newVector = [0,0,0,0,0,0,0,0,0,0,0]\n",
    "    for i in range(11):\n",
    "        summation = 0\n",
    "        for j in range(11):\n",
    "            if i!=j:\n",
    "                summation += (vector[j] * weights[i,j]) - threshold\n",
    "        newVector[i] = stepFunction(summation)\n",
    "    return newVector"
   ]
  },
  {
   "cell_type": "code",
   "execution_count": 7,
   "metadata": {
    "collapsed": true
   },
   "outputs": [],
   "source": [
    "#defining an energy function that decreases as the state converges\n",
    "def energy(vector, weights):\n",
    "    sum = 0\n",
    "    for i in range(11):\n",
    "        for j in range(11):\n",
    "            sum += vector[i] * weights[i,j] * vector[j]\n",
    "    energy = -1/2 * sum\n",
    "    energy = round(energy,1)\n",
    "    return energy"
   ]
  },
  {
   "cell_type": "code",
   "execution_count": 8,
   "metadata": {
    "collapsed": true
   },
   "outputs": [],
   "source": [
    "def hopRunfield(vector, weights):\n",
    "    attractorStates = []\n",
    "    unstableList = []\n",
    "    energyList = []\n",
    "    stateList = []\n",
    "    stateList.append(vector)\n",
    "    submission.seven_segment(vector)\n",
    "    submission.print_number(energy(vector, weights))\n",
    "    energyList.append(energy(vector, weights))\n",
    "    newVector = stateUpdate(vector, weights)\n",
    "    toContinue = True\n",
    "    \n",
    "    while (toContinue):\n",
    "        if newVector not in stateList:\n",
    "            submission.seven_segment(newVector)\n",
    "            submission.print_number(energy(newVector, weights))\n",
    "            vector = newVector\n",
    "            newVector = stateUpdate(vector, weights)\n",
    "            energyList.append(energy(vector, weights))\n",
    "            stateList.append(vector)\n",
    "            if vector not in attractorStates:\n",
    "                attractorStates.append(vector)\n",
    "        \n",
    "        elif (newVector in stateList and stateList[len(stateList) - 2] == newVector):\n",
    "            unstableList.append(stateList[len(stateList) - 2])\n",
    "            unstableList.append(stateList[len(stateList) - 1])\n",
    "            print(\"unstable attractor states found after {0} iterations.\".format(len(stateList)-1))\n",
    "            print(\"List of States: {0}\".format(stateList))\n",
    "            print(\"Attractor States: {0} , {1} \".format(stateList[len(stateList) - 2], stateList[len(stateList) - 1]))\n",
    "            print(\"List of energies at each iteration: {0}\".format(energyList))\n",
    "            seven_segment(stateList[len(stateList) - 2])\n",
    "            seven_segment(stateList[len(stateList) - 1])\n",
    "            plt.xlabel(\"Iterations\")\n",
    "            plt.ylabel(\"Energy\")\n",
    "            plt.plot(energyList)\n",
    "            plt.show()\n",
    "            return ((stateList[len(stateList) - 2]), (stateList[len(stateList) - 1]))\n",
    "        \n",
    "        elif (newVector in stateList and stateList[len(stateList) - 1] == newVector):\n",
    "            print(\"Attractor found after {0} iterations.\".format(len(stateList)-1))\n",
    "            print(\"List of States: {0}\".format(stateList))\n",
    "            print(\"Attractor State: {0}\".format(vector))\n",
    "            print(\"List of energies at each iteration: {0}\".format(energyList))\n",
    "            seven_segment(vector)\n",
    "            plt.xlabel(\"Iterations\")\n",
    "            plt.ylabel(\"Energy\")\n",
    "            plt.plot(energyList)\n",
    "            plt.show()\n",
    "            return newVector"
   ]
  },
  {
   "cell_type": "code",
   "execution_count": 9,
   "metadata": {},
   "outputs": [
    {
     "name": "stdout",
     "output_type": "stream",
     "text": [
      "test1\n",
      " _ \n",
      " _|\n",
      " _|\n",
      "0\n"
     ]
    }
   ],
   "source": [
    "print(\"test1\")\n",
    "submission.section(\"Test 1\")\n",
    "\n",
    "test1=[1,-1,1,1,-1,1,1,-1,-1,-1,-1]\n",
    "seven_segment(test1)\n",
    "\n",
    "submission.qquad()\n",
    "\n",
    "##this prints a space\n",
    "submission.qquad()"
   ]
  },
  {
   "cell_type": "code",
   "execution_count": 10,
   "metadata": {},
   "outputs": [
    {
     "name": "stdout",
     "output_type": "stream",
     "text": [
      "Attractor found after 1 iterations.\n",
      "List of States: [[1, -1, 1, 1, -1, 1, 1, -1, -1, -1, -1], [1, -1, 1, 1, -1, 1, 1, 1, 1, -1, -1]]\n",
      "Attractor State: [1, -1, 1, 1, -1, 1, 1, 1, 1, -1, -1]\n",
      "List of energies at each iteration: [-4.2999999999999998, -16.300000000000001]\n",
      " _ \n",
      " _|\n",
      " _|\n",
      "3\n"
     ]
    },
    {
     "data": {
      "image/png": "[encoded data removed]",
      "text/plain": [
       "<matplotlib.figure.Figure at 0x7f83dc742860>"
      ]
     },
     "metadata": {},
     "output_type": "display_data"
    },
    {
     "data": {
      "text/plain": [
       "[1, -1, 1, 1, -1, 1, 1, 1, 1, -1, -1]"
      ]
     },
     "execution_count": 10,
     "metadata": {},
     "output_type": "execute_result"
    }
   ],
   "source": [
    "hopRunfield(test1, weight_matrix)"
   ]
  },
  {
   "cell_type": "code",
   "execution_count": 11,
   "metadata": {},
   "outputs": [
    {
     "name": "stdout",
     "output_type": "stream",
     "text": [
      "test2\n"
     ]
    }
   ],
   "source": [
    "print(\"test2\")\n",
    "submission.section(\"Test 2\")\n",
    "\n",
    "test2 =[1,1,1,1,1,1,1,-1,-1,-1,-1]\n",
    "\n",
    "energy2 = energy(test2, weight_matrix)\n",
    "\n",
    "submission.qquad()\n",
    "\n",
    "##this prints a space\n",
    "submission.qquad()"
   ]
  },
  {
   "cell_type": "code",
   "execution_count": 12,
   "metadata": {
    "scrolled": false
   },
   "outputs": [
    {
     "name": "stdout",
     "output_type": "stream",
     "text": [
      "Attractor found after 3 iterations.\n",
      "List of States: [[1, 1, 1, 1, 1, 1, 1, -1, -1, -1, -1], [1, -1, -1, 1, -1, 1, 1, 1, 1, 1, -1], [1, 1, 1, 1, 1, 1, 1, -1, 1, -1, -1], [1, 1, -1, 1, 1, 1, 1, -1, 1, 1, -1]]\n",
      "Attractor State: [1, 1, -1, 1, 1, 1, 1, -1, 1, 1, -1]\n",
      "List of energies at each iteration: [-0.29999999999999999, -7.0, -8.3000000000000007, -23.0]\n",
      " _ \n",
      "|_ \n",
      "|_|\n",
      "6\n"
     ]
    },
    {
     "data": {
      "image/png": "[encoded data removed]",
      "text/plain": [
       "<matplotlib.figure.Figure at 0x7f83afeddb70>"
      ]
     },
     "metadata": {},
     "output_type": "display_data"
    },
    {
     "data": {
      "text/plain": [
       "[1, 1, -1, 1, 1, 1, 1, -1, 1, 1, -1]"
      ]
     },
     "execution_count": 12,
     "metadata": {},
     "output_type": "execute_result"
    }
   ],
   "source": [
    "hopRunfield(test2, weight_matrix)"
   ]
  },
  {
   "cell_type": "code",
   "execution_count": 13,
   "metadata": {
    "collapsed": true
   },
   "outputs": [],
   "source": [
    "submission.bottomer()"
   ]
  },
  {
   "cell_type": "markdown",
   "metadata": {},
   "source": [
    "We now want to:\n",
    "- find any other minima (attractor states)\n",
    "- investigate the frequency with which initial configurations fall into these attractor states\n",
    "- distinguish between flippy and non-flippy attractor states\n",
    "- find the configuration that takes longest to converge\n",
    "- call seven_segment on these attractor states and see what they look like"
   ]
  },
  {
   "cell_type": "markdown",
   "metadata": {},
   "source": [
    "Need to define a function that returns all possible initial configurations."
   ]
  },
  {
   "cell_type": "code",
   "execution_count": 14,
   "metadata": {
    "collapsed": true
   },
   "outputs": [],
   "source": [
    "vectors2048 = list(itertools.product([-1, 1], repeat=11))"
   ]
  },
  {
   "cell_type": "code",
   "execution_count": 15,
   "metadata": {
    "scrolled": false
   },
   "outputs": [
    {
     "ename": "NameError",
     "evalue": "name 'W' is not defined",
     "output_type": "error",
     "traceback": [
      "\u001b[0;31m---------------------------------------------------------------------------\u001b[0m",
      "\u001b[0;31mNameError\u001b[0m                                 Traceback (most recent call last)",
      "\u001b[0;32m<ipython-input-15-b940245b2b61>\u001b[0m in \u001b[0;36m<module>\u001b[0;34m()\u001b[0m\n\u001b[1;32m      1\u001b[0m \u001b[0;32mfor\u001b[0m \u001b[0mi\u001b[0m \u001b[0;32min\u001b[0m \u001b[0mrange\u001b[0m\u001b[0;34m(\u001b[0m\u001b[0;36m2048\u001b[0m\u001b[0;34m)\u001b[0m\u001b[0;34m:\u001b[0m\u001b[0;34m\u001b[0m\u001b[0m\n\u001b[0;32m----> 2\u001b[0;31m     \u001b[0mx\u001b[0m \u001b[0;34m=\u001b[0m \u001b[0mhopRunfield\u001b[0m\u001b[0;34m(\u001b[0m\u001b[0mlist\u001b[0m\u001b[0;34m(\u001b[0m\u001b[0mvectors2048\u001b[0m\u001b[0;34m[\u001b[0m\u001b[0mi\u001b[0m\u001b[0;34m]\u001b[0m\u001b[0;34m)\u001b[0m\u001b[0;34m,\u001b[0m \u001b[0mW\u001b[0m\u001b[0;34m)\u001b[0m\u001b[0;34m\u001b[0m\u001b[0m\n\u001b[0m\u001b[1;32m      3\u001b[0m \u001b[0;34m\u001b[0m\u001b[0m\n\u001b[1;32m      4\u001b[0m \u001b[0;31m#print(list(vectors2048[0]))\u001b[0m\u001b[0;34m\u001b[0m\u001b[0;34m\u001b[0m\u001b[0m\n\u001b[1;32m      5\u001b[0m \u001b[0;31m#hopRunfield(list(itertools.chain.from_iterable(vectors2048)), W)\u001b[0m\u001b[0;34m\u001b[0m\u001b[0;34m\u001b[0m\u001b[0m\n",
      "\u001b[0;31mNameError\u001b[0m: name 'W' is not defined"
     ]
    }
   ],
   "source": [
    "#for i in range(2048):\n",
    "    #x = hopRunfield(list(vectors2048[i]), weight_matrix)\n",
    "\n",
    "#print(list(vectors2048[0]))\n",
    "#hopRunfield(list(itertools.chain.from_iterable(vectors2048)), W)"
   ]
  }
 ],
 "metadata": {
  "kernelspec": {
   "display_name": "Python 3",
   "language": "python",
   "name": "python3"
  },
  "language_info": {
   "codemirror_mode": {
    "name": "ipython",
    "version": 3
   },
   "file_extension": ".py",
   "mimetype": "text/x-python",
   "name": "python",
   "nbconvert_exporter": "python",
   "pygments_lexer": "ipython3",
   "version": "3.6.3"
  }
 },
 "nbformat": 4,
 "nbformat_minor": 2
}
